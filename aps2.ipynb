{
 "cells": [
  {
   "cell_type": "markdown",
   "id": "860c3c7a",
   "metadata": {},
   "source": [
    "# APS 1\n",
    "### Disciplina: Redes Sociais\n",
    "\n",
    "\n",
    "### Alunos:\n",
    "* Matheus Silva Melo de Oliveira\n",
    "* Nívea de Abreu de Dantas Lima\n",
    "* Ricardo Mourão Rodrigues Filho\n",
    "\n",
    "### Dataset escolhido: *Arxiv COND-MAT (Condense Matter Physics) collaboration network* \n",
    "Este abrange colaborações científicas entre artigos de autores submetidos à categoria de física relacioanda à matéria condensada. Se um autor **i** é coautor de um artigo com o autor **j**, o grafo contém uma aresta não direcionada de **i** para **j**. Se o artigo tiver a coautoria de **k** autores, isso gera um (sub)grafo completamente conectado em **k** nós."
   ]
  },
  {
   "cell_type": "markdown",
   "id": "6c5bb1c0",
   "metadata": {},
   "source": [
    "### Carrega o Grafo"
   ]
  },
  {
   "cell_type": "code",
   "execution_count": 1,
   "id": "88c58c77",
   "metadata": {},
   "outputs": [
    {
     "data": {
      "text/html": [
       "\n",
       "    <script src=\"/files/netpixi.min.js\"></script>\n"
      ],
      "text/plain": [
       "<IPython.core.display.HTML object>"
      ]
     },
     "metadata": {},
     "output_type": "display_data"
    },
    {
     "name": "stderr",
     "output_type": "stream",
     "text": [
      "<frozen importlib._bootstrap>:914: ImportWarning: VendorImporter.find_spec() not found; falling back to find_module()\n",
      "<frozen importlib._bootstrap>:914: ImportWarning: VendorImporter.find_spec() not found; falling back to find_module()\n",
      "<frozen importlib._bootstrap>:914: ImportWarning: VendorImporter.find_spec() not found; falling back to find_module()\n"
     ]
    }
   ],
   "source": [
    "import netpixi\n",
    "\n",
    "from netpixi.integration.gt import *\n",
    "from regression.integration.gt import *\n",
    "\n",
    "g = gt_load('CondMat.net.gz')"
   ]
  },
  {
   "cell_type": "markdown",
   "id": "19950ab7",
   "metadata": {},
   "source": [
    "### Limpando e isolando a componente principal do grafo"
   ]
  },
  {
   "cell_type": "code",
   "execution_count": 3,
   "id": "151ee007",
   "metadata": {},
   "outputs": [],
   "source": [
    "import netpixi\n",
    "from netpixi.integration.gt import *"
   ]
  },
  {
   "cell_type": "code",
   "execution_count": 4,
   "id": "1fb28f95",
   "metadata": {},
   "outputs": [
    {
     "data": {
      "text/html": [
       "\n",
       "        <div id=\"j9JdWrn6LLCvybYM8qpruN\"></div>\n",
       "        <script>netpixi.render('j9JdWrn6LLCvybYM8qpruN', 'CondMat_sfdp_clean.net.gz', 1.7777777777777777, true, true, false);</script>\n",
       "    "
      ],
      "text/plain": [
       "<IPython.core.display.HTML object>"
      ]
     },
     "metadata": {},
     "output_type": "display_data"
    }
   ],
   "source": [
    "g = gt_clean(g)\n",
    "m = gt_draw.sfdp_layout(g)\n",
    "gt_move(g, m)\n",
    "gt_save(g, 'CondMat_sfdp_clean.net.gz')\n",
    "r3 = netpixi.render('CondMat_sfdp_clean.net.gz',infinite=True);"
   ]
  },
  {
   "cell_type": "code",
   "execution_count": 5,
   "id": "b03eaac4",
   "metadata": {},
   "outputs": [
    {
     "data": {
      "text/html": [
       "\n",
       "        <div id=\"ivemXRfCLyDkMnpMFwNnAf\"></div>\n",
       "        <script>netpixi.call('ivemXRfCLyDkMnpMFwNnAf', 'j9JdWrn6LLCvybYM8qpruN', 'changeGraph', 'eyJ0eXBlIjogInNldHRpbmdzIiwgInByb3BzIjogeyJ2ZXJ0ZXgiOiB7InNpemUiOiA1fX19Cg==');</script>\n",
       "    "
      ],
      "text/plain": [
       "<IPython.core.display.HTML object>"
      ]
     },
     "metadata": {},
     "output_type": "display_data"
    },
    {
     "data": {
      "text/html": [
       "\n",
       "        <div id=\"h5xgL2gHGwbfjgA2PzrHgP\"></div>\n",
       "        <script>netpixi.call('h5xgL2gHGwbfjgA2PzrHgP', 'j9JdWrn6LLCvybYM8qpruN', 'changeGraph', 'eyJ0eXBlIjogInNldHRpbmdzIiwgInByb3BzIjogeyJlZGdlIjogeyJ3aWR0aCI6IDF9fX0K');</script>\n",
       "    "
      ],
      "text/plain": [
       "<IPython.core.display.HTML object>"
      ]
     },
     "metadata": {},
     "output_type": "display_data"
    }
   ],
   "source": [
    "r3.vertex_default(size=5)\n",
    "r3.edge_default( width=1)"
   ]
  },
  {
   "cell_type": "markdown",
   "id": "01566459",
   "metadata": {},
   "source": [
    "## Posicionando o grafo com a ideia de force-directed graph drawing."
   ]
  },
  {
   "cell_type": "code",
   "execution_count": 6,
   "id": "276de9d3",
   "metadata": {},
   "outputs": [],
   "source": [
    "gt_save(g, 'CondMat.net.gz')"
   ]
  },
  {
   "cell_type": "code",
   "execution_count": 7,
   "id": "cbd7a09c",
   "metadata": {},
   "outputs": [],
   "source": [
    "g = gt_load('CondMat.net.gz')"
   ]
  },
  {
   "cell_type": "code",
   "execution_count": 8,
   "id": "0eefede8",
   "metadata": {},
   "outputs": [
    {
     "data": {
      "text/html": [
       "\n",
       "        <div id=\"knj5Mfc7q9s2WAeugtimWX\"></div>\n",
       "        <script>netpixi.render('knj5Mfc7q9s2WAeugtimWX', 'CondMat.net.gz', 1.7777777777777777, true, false, false);</script>\n",
       "    "
      ],
      "text/plain": [
       "<IPython.core.display.HTML object>"
      ]
     },
     "metadata": {},
     "output_type": "display_data"
    },
    {
     "data": {
      "text/html": [
       "\n",
       "        <div id=\"ZyAjDXYYUSBgttNTF76kXU\"></div>\n",
       "        <script>netpixi.call('ZyAjDXYYUSBgttNTF76kXU', 'knj5Mfc7q9s2WAeugtimWX', 'changeGraph', 'eyJ0eXBlIjogInNldHRpbmdzIiwgInByb3BzIjogeyJ2ZXJ0ZXgiOiB7InNpemUiOiA1fX19Cg==');</script>\n",
       "    "
      ],
      "text/plain": [
       "<IPython.core.display.HTML object>"
      ]
     },
     "metadata": {},
     "output_type": "display_data"
    },
    {
     "data": {
      "text/html": [
       "\n",
       "        <div id=\"oKZU9ndHGmwcYQegFcZBqK\"></div>\n",
       "        <script>netpixi.call('oKZU9ndHGmwcYQegFcZBqK', 'knj5Mfc7q9s2WAeugtimWX', 'changeGraph', 'eyJ0eXBlIjogInNldHRpbmdzIiwgInByb3BzIjogeyJlZGdlIjogeyJ3aWR0aCI6IDV9fX0K');</script>\n",
       "    "
      ],
      "text/plain": [
       "<IPython.core.display.HTML object>"
      ]
     },
     "metadata": {},
     "output_type": "display_data"
    }
   ],
   "source": [
    "r1 = netpixi.render('CondMat.net.gz');\n",
    "#Ajustando propriedades\n",
    "r1.vertex_default(size=5)\n",
    "r1.edge_default( width=5)"
   ]
  },
  {
   "cell_type": "code",
   "execution_count": 9,
   "id": "36f01eae",
   "metadata": {},
   "outputs": [
    {
     "data": {
      "text/html": [
       "\n",
       "        <div id=\"SiKASj93znvMBfBTv35KZf\"></div>\n",
       "        <script>netpixi.render('SiKASj93znvMBfBTv35KZf', 'CondMat_sfpd.net.gz', 1.7777777777777777, true, false, false);</script>\n",
       "    "
      ],
      "text/plain": [
       "<IPython.core.display.HTML object>"
      ]
     },
     "metadata": {},
     "output_type": "display_data"
    }
   ],
   "source": [
    "m = gt_draw.sfdp_layout(g)\n",
    "gt_move(g, m)\n",
    "gt_save(g, 'CondMat_sfpd.net.gz')\n",
    "r2 = netpixi.render('CondMat_sfpd.net.gz');"
   ]
  },
  {
   "cell_type": "code",
   "execution_count": 10,
   "id": "03d7160a",
   "metadata": {},
   "outputs": [
    {
     "data": {
      "text/html": [
       "\n",
       "        <div id=\"oFEp4oySABR4Hw68jBTatX\"></div>\n",
       "        <script>netpixi.call('oFEp4oySABR4Hw68jBTatX', 'SiKASj93znvMBfBTv35KZf', 'changeGraph', 'eyJ0eXBlIjogInNldHRpbmdzIiwgInByb3BzIjogeyJ2ZXJ0ZXgiOiB7InNpemUiOiA1fX19Cg==');</script>\n",
       "    "
      ],
      "text/plain": [
       "<IPython.core.display.HTML object>"
      ]
     },
     "metadata": {},
     "output_type": "display_data"
    },
    {
     "data": {
      "text/html": [
       "\n",
       "        <div id=\"993ftZwhvfsrWpAJbHMBEh\"></div>\n",
       "        <script>netpixi.call('993ftZwhvfsrWpAJbHMBEh', 'SiKASj93znvMBfBTv35KZf', 'changeGraph', 'eyJ0eXBlIjogInNldHRpbmdzIiwgInByb3BzIjogeyJlZGdlIjogeyJ3aWR0aCI6IDF9fX0K');</script>\n",
       "    "
      ],
      "text/plain": [
       "<IPython.core.display.HTML object>"
      ]
     },
     "metadata": {},
     "output_type": "display_data"
    }
   ],
   "source": [
    "#Ajustando propriedades\n",
    "r2.vertex_default(size=5)\n",
    "r2.edge_default( width=1)"
   ]
  },
  {
   "cell_type": "markdown",
   "id": "95465119",
   "metadata": {},
   "source": [
    "## centralidade betweenness"
   ]
  },
  {
   "cell_type": "code",
   "execution_count": 12,
   "id": "f74c9770",
   "metadata": {},
   "outputs": [],
   "source": [
    "from graph_tool import centrality\n",
    "\n",
    "bc, _ = centrality.betweenness(g)"
   ]
  },
  {
   "cell_type": "markdown",
   "id": "4452e076",
   "metadata": {},
   "source": [
    "##  tornando as métricas uma propriedade dos vértices do grafo."
   ]
  },
  {
   "cell_type": "code",
   "execution_count": 13,
   "id": "8252f300",
   "metadata": {},
   "outputs": [],
   "source": [
    "g.add_vp('betweenness', bc)"
   ]
  },
  {
   "cell_type": "markdown",
   "id": "82e59244",
   "metadata": {},
   "source": [
    "## Usando as propriedades dos vértices para visualização"
   ]
  },
  {
   "cell_type": "code",
   "execution_count": 15,
   "id": "674102d7",
   "metadata": {},
   "outputs": [
    {
     "data": {
      "text/html": [
       "\n",
       "        <div id=\"Q98bBfah74UpRcX2TTyowV\"></div>\n",
       "        <script>netpixi.render('Q98bBfah74UpRcX2TTyowV', 'exemplo.net.gz', 1.7777777777777777, true, false, false);</script>\n",
       "    "
      ],
      "text/plain": [
       "<IPython.core.display.HTML object>"
      ]
     },
     "metadata": {},
     "output_type": "display_data"
    }
   ],
   "source": [
    "m = gt_draw.sfdp_layout(g)\n",
    "gt_move(g, m)\n",
    "gt_save(g, 'exemplo.net.gz')\n",
    "r = netpixi.render('exemplo.net.gz')"
   ]
  },
  {
   "cell_type": "markdown",
   "id": "4019f268",
   "metadata": {},
   "source": [
    "##  vertex_scale para usar o betweenness como tamanho."
   ]
  },
  {
   "cell_type": "code",
   "execution_count": 17,
   "id": "daca68f0",
   "metadata": {},
   "outputs": [
    {
     "data": {
      "text/html": [
       "\n",
       "        <div id=\"csYEVWtpSLoTzohYsZFqBJ\"></div>\n",
       "        <script>netpixi.call('csYEVWtpSLoTzohYsZFqBJ', 'Q98bBfah74UpRcX2TTyowV', 'setGraph', 'eyJ0eXBlIjogInZlcnRleCIsICJwcm9wcyI6IHsic3JjIjogImlkIiwgImRzdCI6ICJfa2V5In19Cg==');</script>\n",
       "    "
      ],
      "text/plain": [
       "<IPython.core.display.HTML object>"
      ]
     },
     "metadata": {},
     "output_type": "display_data"
    },
    {
     "data": {
      "text/html": [
       "\n",
       "        <div id=\"iWcxwtJNB8yQMujaLupkV3\"></div>\n",
       "        <script>netpixi.call('iWcxwtJNB8yQMujaLupkV3', 'Q98bBfah74UpRcX2TTyowV', 'normalizeGraph', 'eyJ0eXBlIjogInZlcnRleCIsICJwcm9wcyI6IHsic3JjIjogImJldHdlZW5uZXNzIiwgIm1pbiI6IDEwLCAibWF4IjogNTB9fQo=');</script>\n",
       "    "
      ],
      "text/plain": [
       "<IPython.core.display.HTML object>"
      ]
     },
     "metadata": {},
     "output_type": "display_data"
    }
   ],
   "source": [
    "r.vertex_set_key('id')\n",
    "r.vertex_scale('betweenness', 10, 50)"
   ]
  },
  {
   "cell_type": "markdown",
   "id": "13aee2e9",
   "metadata": {},
   "source": [
    "<img src=\"exemplo.net.gz.png\">"
   ]
  },
  {
   "cell_type": "code",
   "execution_count": null,
   "id": "9b495f43",
   "metadata": {},
   "outputs": [],
   "source": []
  }
 ],
 "metadata": {
  "kernelspec": {
   "display_name": "Python 3 (ipykernel)",
   "language": "python",
   "name": "python3"
  },
  "language_info": {
   "codemirror_mode": {
    "name": "ipython",
    "version": 3
   },
   "file_extension": ".py",
   "mimetype": "text/x-python",
   "name": "python",
   "nbconvert_exporter": "python",
   "pygments_lexer": "ipython3",
   "version": "3.10.10"
  }
 },
 "nbformat": 4,
 "nbformat_minor": 5
}
