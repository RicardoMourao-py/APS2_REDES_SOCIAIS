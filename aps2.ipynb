{
 "cells": [
  {
   "cell_type": "markdown",
   "id": "860c3c7a",
   "metadata": {},
   "source": [
    "# APS 1\n",
    "### Disciplina: Redes Sociais\n",
    "\n",
    "\n",
    "### Alunos:\n",
    "* Matheus Silva Melo de Oliveira\n",
    "* Nívea de Abreu de Dantas Lima\n",
    "* Ricardo Mourão Rodrigues Filho\n",
    "\n",
    "### Dataset escolhido: *Arxiv COND-MAT (Condense Matter Physics) collaboration network* \n",
    "Este abrange colaborações científicas entre artigos de autores submetidos à categoria de física relacioanda à matéria condensada. Se um autor **i** é coautor de um artigo com o autor **j**, o grafo contém uma aresta não direcionada de **i** para **j**. Se o artigo tiver a coautoria de **k** autores, isso gera um (sub)grafo completamente conectado em **k** nós."
   ]
  },
  {
   "cell_type": "code",
   "execution_count": 1,
   "id": "4c4252af",
   "metadata": {},
   "outputs": [
    {
     "data": {
      "text/html": [
       "\n",
       "    <script src=\"/files/netpixi.min.js\"></script>\n"
      ],
      "text/plain": [
       "<IPython.core.display.HTML object>"
      ]
     },
     "metadata": {},
     "output_type": "display_data"
    }
   ],
   "source": [
    "from netpixi.integration.gt import Graph\n",
    "\n",
    "g = Graph(directed=False)"
   ]
  },
  {
   "cell_type": "markdown",
   "id": "6c5bb1c0",
   "metadata": {},
   "source": [
    "### Carrega o Grafo\n",
    "Realiza-se a leitura do arquivo de texto com as informações para preenchimento do grafo. Pode-se notar que as quatros primeiras linhas são metadados do arquivo que podem ser interessantes para verificação posterior do grafo, como número de vértices e arestas.\n",
    "\n",
    "Cria-se duas estruturas de dados para armazenamento temporário de vértices e arestas, antes da utilização dos métodos com tais funções propriamente. Para armazenar os vértices, fora utilizada um set, para evitar o armazenamento de vértices repetidos. Para armazenar arestas, utilizou-se uma lista."
   ]
  },
  {
   "cell_type": "code",
   "execution_count": 2,
   "id": "c0bf6cf5",
   "metadata": {},
   "outputs": [
    {
     "name": "stdout",
     "output_type": "stream",
     "text": [
      "# Directed graph (each unordered pair of nodes is saved once): CA-CondMat.txt\n",
      "# Collaboration network of Arxiv Condensed Matter category (there is an edge if authors coauthored at least one paper)\n",
      "# Nodes: 23133 Edges: 186936\n",
      "# FromNodeId\tToNodeId\n",
      "[INFO] 58 arestas cujos nós de ligação são o mesmo vértice\n"
     ]
    }
   ],
   "source": [
    "nodes  = set()\n",
    "edges = []\n",
    "count = 0\n",
    "repetidos = 0\n",
    "with open('./CA-CondMat.txt', 'r') as f:\n",
    "    while True:\n",
    "        linha = f.readline()\n",
    "        count+=1\n",
    "        if not linha:\n",
    "            break\n",
    "        if count > 4:\n",
    "            nodes.add(int(linha.strip().split(\"\\t\")[0]))\n",
    "            nodes.add(int(linha.strip().split(\"\\t\")[1]))\n",
    "            if  int(linha.strip().split(\"\\t\")[0]) != int(linha.strip().split(\"\\t\")[1]):\n",
    "                edges.append([int(linha.strip().split(\"\\t\")[0]), int(linha.strip().split(\"\\t\")[1])])\n",
    "            else:\n",
    "                repetidos +=1\n",
    "        else:\n",
    "            print(linha.strip())\n",
    "print(f\"[INFO] {repetidos} arestas cujos nós de ligação são o mesmo vértice\")"
   ]
  },
  {
   "cell_type": "markdown",
   "id": "021f5243",
   "metadata": {},
   "source": [
    "### Adicionando vértices ao grafo"
   ]
  },
  {
   "cell_type": "code",
   "execution_count": 3,
   "id": "0489ed48",
   "metadata": {},
   "outputs": [],
   "source": [
    "for node in nodes:\n",
    "    g.add_vertex(node)"
   ]
  },
  {
   "cell_type": "markdown",
   "id": "b6e3fe68",
   "metadata": {},
   "source": [
    "### Adicionando arestas ao grafo\n",
    "\n",
    "Nota-se que existem arestas com ligações repetidas no dataset, dessa forma, trata-se esse erro *Edge with source i and target j already exists*, com objetivo de se identificar a quantidade destes e assim verificar a quantidade de arestas válidas é condizente."
   ]
  },
  {
   "cell_type": "code",
   "execution_count": 4,
   "id": "0e7f9811",
   "metadata": {},
   "outputs": [],
   "source": [
    "repetidas = 0\n",
    "for edge in edges:\n",
    "    try:\n",
    "        s,d = edge\n",
    "        g.add_edge(s,d)\n",
    "    except ValueError as error:\n",
    "        repetidas+=1"
   ]
  },
  {
   "cell_type": "markdown",
   "id": "19950ab7",
   "metadata": {},
   "source": [
    "### Limpando e isolando a componente principal do grafo"
   ]
  },
  {
   "cell_type": "code",
   "execution_count": 7,
   "id": "151ee007",
   "metadata": {},
   "outputs": [],
   "source": [
    "import netpixi\n",
    "from netpixi.integration.gt import *"
   ]
  },
  {
   "cell_type": "code",
   "execution_count": 8,
   "id": "1fb28f95",
   "metadata": {},
   "outputs": [
    {
     "data": {
      "text/html": [
       "\n",
       "        <div id=\"n7NyHSdMGFuAsdGqMWic6g\"></div>\n",
       "        <script>netpixi.render('n7NyHSdMGFuAsdGqMWic6g', 'CondMat_sfdp_clean.net.gz', 1.7777777777777777, true, true, false);</script>\n",
       "    "
      ],
      "text/plain": [
       "<IPython.core.display.HTML object>"
      ]
     },
     "metadata": {},
     "output_type": "display_data"
    }
   ],
   "source": [
    "g = gt_clean(g)\n",
    "m = gt_draw.sfdp_layout(g)\n",
    "gt_move(g, m)\n",
    "gt_save(g, 'CondMat_sfdp_clean.net.gz')\n",
    "r3 = netpixi.render('CondMat_sfdp_clean.net.gz',infinite=True);"
   ]
  },
  {
   "cell_type": "code",
   "execution_count": 9,
   "id": "b03eaac4",
   "metadata": {},
   "outputs": [
    {
     "data": {
      "text/html": [
       "\n",
       "        <div id=\"hFm6rmN6jCoh8fLpYF5eum\"></div>\n",
       "        <script>netpixi.call('hFm6rmN6jCoh8fLpYF5eum', 'n7NyHSdMGFuAsdGqMWic6g', 'changeGraph', 'eyJ0eXBlIjogInNldHRpbmdzIiwgInByb3BzIjogeyJ2ZXJ0ZXgiOiB7InNpemUiOiA1fX19Cg==');</script>\n",
       "    "
      ],
      "text/plain": [
       "<IPython.core.display.HTML object>"
      ]
     },
     "metadata": {},
     "output_type": "display_data"
    },
    {
     "data": {
      "text/html": [
       "\n",
       "        <div id=\"JFXwZZWYA4xcMGT4tSnNyi\"></div>\n",
       "        <script>netpixi.call('JFXwZZWYA4xcMGT4tSnNyi', 'n7NyHSdMGFuAsdGqMWic6g', 'changeGraph', 'eyJ0eXBlIjogInNldHRpbmdzIiwgInByb3BzIjogeyJlZGdlIjogeyJ3aWR0aCI6IDF9fX0K');</script>\n",
       "    "
      ],
      "text/plain": [
       "<IPython.core.display.HTML object>"
      ]
     },
     "metadata": {},
     "output_type": "display_data"
    }
   ],
   "source": [
    "r3.vertex_default(size=5)\n",
    "r3.edge_default( width=1)"
   ]
  },
  {
   "cell_type": "markdown",
   "id": "01566459",
   "metadata": {},
   "source": [
    "## Posicionando o grafo com a ideia de force-directed graph drawing."
   ]
  },
  {
   "cell_type": "code",
   "execution_count": 17,
   "id": "276de9d3",
   "metadata": {},
   "outputs": [],
   "source": [
    "gt_save(g, 'CondMat.net.gz')"
   ]
  },
  {
   "cell_type": "code",
   "execution_count": 18,
   "id": "cbd7a09c",
   "metadata": {},
   "outputs": [],
   "source": [
    "g = gt_load('CondMat.net.gz')"
   ]
  },
  {
   "cell_type": "code",
   "execution_count": 19,
   "id": "0eefede8",
   "metadata": {},
   "outputs": [
    {
     "data": {
      "text/html": [
       "\n",
       "        <div id=\"Y7wbPQWuPffTjUicKE47s5\"></div>\n",
       "        <script>netpixi.render('Y7wbPQWuPffTjUicKE47s5', 'CondMat.net.gz', 1.7777777777777777, true, false, false);</script>\n",
       "    "
      ],
      "text/plain": [
       "<IPython.core.display.HTML object>"
      ]
     },
     "metadata": {},
     "output_type": "display_data"
    },
    {
     "data": {
      "text/html": [
       "\n",
       "        <div id=\"evG74HyctiqaFR2PYLNvCc\"></div>\n",
       "        <script>netpixi.call('evG74HyctiqaFR2PYLNvCc', 'Y7wbPQWuPffTjUicKE47s5', 'changeGraph', 'eyJ0eXBlIjogInNldHRpbmdzIiwgInByb3BzIjogeyJ2ZXJ0ZXgiOiB7InNpemUiOiA1fX19Cg==');</script>\n",
       "    "
      ],
      "text/plain": [
       "<IPython.core.display.HTML object>"
      ]
     },
     "metadata": {},
     "output_type": "display_data"
    },
    {
     "data": {
      "text/html": [
       "\n",
       "        <div id=\"NpM2pqRCrsE3v53D5mh6b4\"></div>\n",
       "        <script>netpixi.call('NpM2pqRCrsE3v53D5mh6b4', 'Y7wbPQWuPffTjUicKE47s5', 'changeGraph', 'eyJ0eXBlIjogInNldHRpbmdzIiwgInByb3BzIjogeyJlZGdlIjogeyJ3aWR0aCI6IDV9fX0K');</script>\n",
       "    "
      ],
      "text/plain": [
       "<IPython.core.display.HTML object>"
      ]
     },
     "metadata": {},
     "output_type": "display_data"
    }
   ],
   "source": [
    "r1 = netpixi.render('CondMat.net.gz');\n",
    "#Ajustando propriedades\n",
    "r1.vertex_default(size=5)\n",
    "r1.edge_default( width=5)"
   ]
  },
  {
   "cell_type": "code",
   "execution_count": 15,
   "id": "36f01eae",
   "metadata": {},
   "outputs": [
    {
     "data": {
      "text/html": [
       "\n",
       "        <div id=\"37Nx43keiDvcyrr858Eeae\"></div>\n",
       "        <script>netpixi.render('37Nx43keiDvcyrr858Eeae', 'CondMat_sfpd.net.gz', 1.7777777777777777, true, false, false);</script>\n",
       "    "
      ],
      "text/plain": [
       "<IPython.core.display.HTML object>"
      ]
     },
     "metadata": {},
     "output_type": "display_data"
    }
   ],
   "source": [
    "m = gt_draw.sfdp_layout(g)\n",
    "gt_move(g, m)\n",
    "gt_save(g, 'CondMat_sfpd.net.gz')\n",
    "r2 = netpixi.render('CondMat_sfpd.net.gz');"
   ]
  },
  {
   "cell_type": "code",
   "execution_count": 16,
   "id": "03d7160a",
   "metadata": {},
   "outputs": [
    {
     "data": {
      "text/html": [
       "\n",
       "        <div id=\"MHqEKR3M9u3FQ7uLXH2jt8\"></div>\n",
       "        <script>netpixi.call('MHqEKR3M9u3FQ7uLXH2jt8', '37Nx43keiDvcyrr858Eeae', 'changeGraph', 'eyJ0eXBlIjogInNldHRpbmdzIiwgInByb3BzIjogeyJ2ZXJ0ZXgiOiB7InNpemUiOiA1fX19Cg==');</script>\n",
       "    "
      ],
      "text/plain": [
       "<IPython.core.display.HTML object>"
      ]
     },
     "metadata": {},
     "output_type": "display_data"
    },
    {
     "data": {
      "text/html": [
       "\n",
       "        <div id=\"auUDViBpwAUkYmcebrk5vs\"></div>\n",
       "        <script>netpixi.call('auUDViBpwAUkYmcebrk5vs', '37Nx43keiDvcyrr858Eeae', 'changeGraph', 'eyJ0eXBlIjogInNldHRpbmdzIiwgInByb3BzIjogeyJlZGdlIjogeyJ3aWR0aCI6IDF9fX0K');</script>\n",
       "    "
      ],
      "text/plain": [
       "<IPython.core.display.HTML object>"
      ]
     },
     "metadata": {},
     "output_type": "display_data"
    }
   ],
   "source": [
    "#Ajustando propriedades\n",
    "r2.vertex_default(size=5)\n",
    "r2.edge_default( width=1)"
   ]
  },
  {
   "cell_type": "code",
   "execution_count": null,
   "id": "63706341",
   "metadata": {},
   "outputs": [],
   "source": []
  }
 ],
 "metadata": {
  "kernelspec": {
   "display_name": "Python 3 (ipykernel)",
   "language": "python",
   "name": "python3"
  },
  "language_info": {
   "codemirror_mode": {
    "name": "ipython",
    "version": 3
   },
   "file_extension": ".py",
   "mimetype": "text/x-python",
   "name": "python",
   "nbconvert_exporter": "python",
   "pygments_lexer": "ipython3",
   "version": "3.10.10"
  }
 },
 "nbformat": 4,
 "nbformat_minor": 5
}
